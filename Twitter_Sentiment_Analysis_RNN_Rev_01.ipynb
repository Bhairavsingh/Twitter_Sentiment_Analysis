{
  "nbformat": 4,
  "nbformat_minor": 0,
  "metadata": {
    "colab": {
      "name": "Twitter_Sentiment_Analysis_RNN_Rev.01.ipynb",
      "provenance": [],
      "collapsed_sections": []
    },
    "kernelspec": {
      "name": "python3",
      "display_name": "Python 3"
    }
  },
  "cells": [
    {
      "cell_type": "code",
      "metadata": {
        "id": "CxlzCRWNe5-6",
        "colab_type": "code",
        "colab": {
          "base_uri": "https://localhost:8080/",
          "height": 109
        },
        "outputId": "b715b3c1-e2e7-4e1a-a5db-098e55b31842"
      },
      "source": [
        "\n",
        "#Loading required libraries.\n",
        "import pandas as pd\n",
        "import numpy as np\n",
        "import re\n",
        "import string\n",
        "from pprint import pprint\n",
        "from collections import Counter\n",
        "import keras\n",
        "import os\n",
        "\n",
        "from keras.layers import Embedding\n",
        "import tensorflow as tf\n",
        "\n",
        "from keras.datasets import imdb\n",
        "from keras import preprocessing\n",
        "from keras.preprocessing.text import Tokenizer\n",
        "from keras.preprocessing.sequence import pad_sequences\n",
        "from keras.models import Sequential\n",
        "from keras import regularizers\n",
        "from keras.layers import Embedding, Flatten, Dense, Dropout\n",
        "from keras import layers\n",
        "from keras.layers import LSTM\n",
        "\n",
        "import matplotlib.pyplot as plt\n",
        "\n",
        "#Loading nltk library and its packages for text processing.\n",
        "import nltk\n",
        "from nltk.tokenize import word_tokenize\n",
        "from nltk.stem import WordNetLemmatizer\n",
        "wordnet_lemmatizer = WordNetLemmatizer()\n",
        "from nltk.corpus import stopwords\n",
        "from nltk.tokenize import word_tokenize\n",
        "from nltk.probability import FreqDist\n",
        "\n",
        "from sklearn.feature_extraction.text import CountVectorizer, TfidfVectorizer\n",
        "from sklearn import metrics\n",
        "from sklearn.linear_model import SGDClassifier\n",
        "from sklearn.naive_bayes import MultinomialNB\n",
        "\n",
        "#Downloading some necessary word lists.\n",
        "nltk.download('wordnet')\n",
        "nltk.download('stopwords')\n",
        "\n",
        "#Downloading all dependencies and corpora.\n",
        "#nltk.download()\n",
        "#nltk.download('all', halt_on_error=False)\n",
        "\n",
        "#Importing pattern and its dependencies.\n",
        "#import pattern\n",
        "#from pattern.en import tag\n",
        "#from pattern.en import parse\n",
        "#from pattern.en import pprint\n",
        "\n"
      ],
      "execution_count": 1,
      "outputs": [
        {
          "output_type": "stream",
          "text": [
            "[nltk_data] Downloading package wordnet to /root/nltk_data...\n",
            "[nltk_data]   Unzipping corpora/wordnet.zip.\n",
            "[nltk_data] Downloading package stopwords to /root/nltk_data...\n",
            "[nltk_data]   Unzipping corpora/stopwords.zip.\n"
          ],
          "name": "stdout"
        },
        {
          "output_type": "execute_result",
          "data": {
            "text/plain": [
              "True"
            ]
          },
          "metadata": {
            "tags": []
          },
          "execution_count": 1
        }
      ]
    },
    {
      "cell_type": "code",
      "metadata": {
        "id": "DFtLbdfjfFvh",
        "colab_type": "code",
        "colab": {}
      },
      "source": [
        "#Reading Training and Testing Datasets.\n",
        "raw_data = pd.read_csv(\"/content/drive/My Drive/Colab_Datasets/Tweets_Data/train.csv\")\n",
        "#test_data = pd.read_csv(\"C:/Users/Bhair/OneDrive - University of Oklahoma/Master_of_Science_Data/Data Science Practice/Twitter Sentiment Analysis/Data/tweet-sentiment-extraction/test.csv\")\n",
        "\n",
        "\n",
        "#Contraction directory.\n",
        "CONTRACTION_MAP = {\n",
        "\"ain't\": \"is not\",\n",
        "\"aren't\": \"are not\",\n",
        "\"can't\": \"cannot\",\n",
        "\"can't've\": \"cannot have\",\n",
        "\"'cause\": \"because\",\n",
        "\"could've\": \"could have\",\n",
        "\"couldn't\": \"could not\",\n",
        "\"couldn't've\": \"could not have\",\n",
        "\"didn't\": \"did not\",\n",
        "\"doesn't\": \"does not\",\n",
        "\"don't\": \"do not\",\n",
        "\"hadn't\": \"had not\",\n",
        "\"hadn't've\": \"had not have\",\n",
        "\"hasn't\": \"has not\",\n",
        "\"haven't\": \"have not\",\n",
        "\"he'd\": \"he would\",\n",
        "\"he'd've\": \"he would have\",\n",
        "\"he'll\": \"he will\",\n",
        "\"he'll've\": \"he he will have\",\n",
        "\"he's\": \"he is\",\n",
        "\"how'd\": \"how did\",\n",
        "\"how'd'y\": \"how do you\",\n",
        "\"how'll\": \"how will\",\n",
        "\"how's\": \"how is\",\n",
        "\"I'd\": \"I would\",\n",
        "\"I'd've\": \"I would have\",\n",
        "\"I'll\": \"I will\",\n",
        "\"I'll've\": \"I will have\",\n",
        "\"I'm\": \"I am\",\n",
        "\"I've\": \"I have\",\n",
        "\"i'd\": \"i would\",\n",
        "\"i'd've\": \"i would have\",\n",
        "\"i'll\": \"i will\",\n",
        "\"i'll've\": \"i will have\",\n",
        "\"i'm\": \"i am\",\n",
        "\"i've\": \"i have\",\n",
        "\"isn't\": \"is not\",\n",
        "\"it'd\": \"it would\",\n",
        "\"it'd've\": \"it would have\",\n",
        "\"it'll\": \"it will\",\n",
        "\"it'll've\": \"it will have\",\n",
        "\"it's\": \"it is\",\n",
        "\"let's\": \"let us\",\n",
        "\"ma'am\": \"madam\",\n",
        "\"mayn't\": \"may not\",\n",
        "\"might've\": \"might have\",\n",
        "\"mightn't\": \"might not\",\n",
        "\"mightn't've\": \"might not have\",\n",
        "\"must've\": \"must have\",\n",
        "\"mustn't\": \"must not\",\n",
        "\"mustn't've\": \"must not have\",\n",
        "\"needn't\": \"need not\",\n",
        "\"needn't've\": \"need not have\",\n",
        "\"o'clock\": \"of the clock\",\n",
        "\"oughtn't\": \"ought not\",\n",
        "\"oughtn't've\": \"ought not have\",\n",
        "\"shan't\": \"shall not\",\n",
        "\"sha'n't\": \"shall not\",\n",
        "\"shan't've\": \"shall not have\",\n",
        "\"she'd\": \"she would\",\n",
        "\"she'd've\": \"she would have\",\n",
        "\"she'll\": \"she will\",\n",
        "\"she'll've\": \"she will have\",\n",
        "\"she's\": \"she is\",\n",
        "\"should've\": \"should have\",\n",
        "\"shouldn't\": \"should not\",\n",
        "\"shouldn't've\": \"should not have\",\n",
        "\"so've\": \"so have\",\n",
        "\"so's\": \"so as\",\n",
        "\"that'd\": \"that would\",\n",
        "\"that'd've\": \"that would have\",\n",
        "\"that's\": \"that is\",\n",
        "\"there'd\": \"there would\",\n",
        "\"there'd've\": \"there would have\",\n",
        "\"there's\": \"there is\",\n",
        "\"they'd\": \"they would\",\n",
        "\"they'd've\": \"they would have\",\n",
        "\"they'll\": \"they will\",\n",
        "\"they'll've\": \"they will have\",\n",
        "\"they're\": \"they are\",\n",
        "\"they've\": \"they have\",\n",
        "\"to've\": \"to have\",\n",
        "\"wasn't\": \"was not\",\n",
        "\"we'd\": \"we would\",\n",
        "\"we'd've\": \"we would have\",\n",
        "\"we'll\": \"we will\",\n",
        "\"we'll've\": \"we will have\",\n",
        "\"we're\": \"we are\",\n",
        "\"we've\": \"we have\",\n",
        "\"weren't\": \"were not\",\n",
        "\"what'll\": \"what will\",\n",
        "\"what'll've\": \"what will have\",\n",
        "\"what're\": \"what are\",\n",
        "\"what's\": \"what is\",\n",
        "\"what've\": \"what have\",\n",
        "\"when's\": \"when is\",\n",
        "\"when've\": \"when have\",\n",
        "\"where'd\": \"where did\",\n",
        "\"where's\": \"where is\",\n",
        "\"where've\": \"where have\",\n",
        "\"who'll\": \"who will\",\n",
        "\"who'll've\": \"who will have\",\n",
        "\"who's\": \"who is\",\n",
        "\"who've\": \"who have\",\n",
        "\"why's\": \"why is\",\n",
        "\"why've\": \"why have\",\n",
        "\"will've\": \"will have\",\n",
        "\"won't\": \"will not\",\n",
        "\"won't've\": \"will not have\",\n",
        "\"would've\": \"would have\",\n",
        "\"wouldn't\": \"would not\",\n",
        "\"wouldn't've\": \"would not have\",\n",
        "\"y'all\": \"you all\",\n",
        "\"y'all'd\": \"you all would\",\n",
        "\"y'all'd've\": \"you all would have\",\n",
        "\"y'all're\": \"you all are\",\n",
        "\"y'all've\": \"you all have\",\n",
        "\"you'd\": \"you would\",\n",
        "\"you'd've\": \"you would have\",\n",
        "\"you'll\": \"you will\",\n",
        "\"you'll've\": \"you will have\",\n",
        "\"you're\": \"you are\",\n",
        "\"you've\": \"you have\"\n",
        "}\n",
        "\n",
        "\n",
        "\n",
        "#Customized stop words.\n",
        "stop_words = {'a', 'about', 'above', 'after', 'again', 'against', 'ain', 'all', 'am', 'an', 'and', 'any', \n",
        "              'as', 'at', 'be', 'because', 'been', 'before', 'being', 'below', 'between', 'both', 'but', 'by', \n",
        "              'doing', 'don', 'down', 'during', 'each', 'few', 'for', 'from', 'further', 'he', 'her', 'here', \n",
        "              'hers', 'herself', 'him', 'himself', 'his', 'how', 'i', 'if', 'in', 'into', 'it', \"it's\", 'its', \n",
        "              'itself', 'just', 'm', 'ma', 'me', 'more', 'most', 'my', 'myself', 'now', 'o', 'of', 'off', 'on', \n",
        "              'once', 'only', 'or', 'other', 'our',  'ours', 'ourselves', 'out', 'over', 'own', 're', 's', 'same', \n",
        "              'shan', \"shan't\", 'she', \"she's\", 'so', 'some', 'such', 't', 'than', 'that', \"that'll\", 'the', 'their', \n",
        "              'theirs', 'them', 'themselves', 'then', 'there', 'these', 'they', 'this', 'those', 'through', 'to', \n",
        "              'too', 'under', 'until', 'up', 've', 'very', 'we', 'while', 'with', 'y', 'you', \"you'd\", \"you'll\", \n",
        "              \"you're\", \"you've\", 'your', 'yours', 'yourself', 'yourselves'}\n",
        "\n",
        "\n",
        "\n",
        "#Function for expanding contractions using above dictonary of contractions.\n",
        "def expand_contractions(sentence, contraction_mapping):\n",
        "    #Creating a list of contraction keys.\n",
        "    contractions_pattern = re.compile('({})'.format('|'.join(contraction_mapping.keys())),\n",
        "                                      flags = re.IGNORECASE|re.DOTALL)\n",
        "    \n",
        "    #Function for expanding the contractions.\n",
        "    def expand_match(contraction):\n",
        "        match = contraction.group(0)\n",
        "        first_char = match[0]\n",
        "        expanded_contraction = (contraction_mapping.get(match)\\\n",
        "                                if contraction_mapping.get(match)\\\n",
        "                                else contraction_mapping.get(match.lower()))\n",
        "        expanded_contraction = first_char + expanded_contraction[1:]\n",
        "        return expanded_contraction\n",
        "    expanded_sentence = contractions_pattern.sub(expand_match, sentence)\n",
        "    return expanded_sentence\n",
        "\n",
        "\n",
        "\n",
        "#Function for creating a list ofstrings from the input. It creates different elements in the list if there is a space.\n",
        "#Basically, a sentence will be converted into a list of words.\n",
        "def words(text): \n",
        "  return re.findall(r'\\w+', text.lower())\n",
        "\n",
        "#Reading the file with vocabulary.\n",
        "WORDS = Counter(words(open('/content/drive/My Drive/Colab_Datasets/Tweets_Data/big.txt').read()))\n",
        "\n",
        "#Function for calculating probability of the given word to find in the vocabulary.\n",
        "def P(word, N = sum(WORDS.values())): \n",
        "    \"Probability of `word`.\"\n",
        "    #WORDS[word] gives the count of word\n",
        "    #N is total number of words in the vocabulary.\n",
        "    return WORDS[word] / N\n",
        "\n",
        "#Main function which should be called for word correction.\n",
        "def correction(word): \n",
        "    \"Most probable spelling correction for word.\"\n",
        "    return max(candidates(word), key = P)\n",
        "\n",
        "#Function for genetraing all possible real words from given string.\n",
        "def candidates(word): \n",
        "    \"Generate possible spelling corrections for word.\"\n",
        "    return (known([word]) or known(edits1(word)) or known(edits2(word)) or [word])\n",
        "\n",
        "def known(words): \n",
        "    \"The subset of `words` that appear in the dictionary of WORDS.\"\n",
        "    return set(w for w in words if w in WORDS)\n",
        "\n",
        "#Function for editing given string. This returns words which are one edit away from input string.\n",
        "#The function edits1 returns a set of all the edited strings (whether words or not) that can be made with one simple edit: \n",
        "#a simple edit to a word is a deletion (remove one letter), a transposition (swap two adjacent letters), a replacement (change one letter to another) or an insertion (add a letter).\n",
        "#The output of this function can be a big set. For a word of length n, there will be n deletions, n-1 transpositions, \n",
        "#26n alterations, and 26(n+1) insertions, for a total of 54n+25 (of which a few are typically duplicates)\n",
        "def edits1(word):\n",
        "    \"All edits that are one edit away from `word`.\"\n",
        "    letters    = 'abcdefghijklmnopqrstuvwxyz'\n",
        "    #Splitting the letters of a word to form a combination.\n",
        "    splits     = [(word[:i], word[i:])    for i in range(len(word) + 1)]\n",
        "    deletes    = [L + R[1:]               for L, R in splits if R]\n",
        "    transposes = [L + R[1] + R[0] + R[2:] for L, R in splits if len(R)>1]\n",
        "    replaces   = [L + c + R[1:]           for L, R in splits if R for c in letters]\n",
        "    inserts    = [L + c + R               for L, R in splits for c in letters]\n",
        "    return set(deletes + transposes + replaces + inserts)\n",
        "\n",
        "#Function for generating set of words which are two edits away from input string.\n",
        "def edits2(word): \n",
        "    \"All edits that are two edits away from `word`.\"\n",
        "    return (e2 for e1 in edits1(word) for e2 in edits1(e1))\n",
        "\n",
        "\n",
        "#Function for converting a list to a string.\n",
        "def listToString(inlist):\n",
        "    #Initialize an empty string.\n",
        "    string = \" \"\n",
        "    return (string.join(inlist))\n",
        "\n",
        "\n",
        "\n",
        "\n",
        "#Function for preprocessing and normalizing text data.\n",
        "def data_normalization(indata):\n",
        "    #Setting stop word variable using NLTK package.\n",
        "    stopWords = set(stopwords.words('english'))\n",
        "    \n",
        "    #Creating list of punctuations.\n",
        "    punctuations = [\".\", \",\", \"!\", \"`\", \"...\", \"****\", \":\", \"(\", \")\", \"?\", \"-\", \"{\", \"}\", \"[\", \"]\", \";\", \"/\", \"+\", \"<\", \n",
        "               \">\", \"|\", \"=\" \"_\", \"^\", \"@\", \"#\", \"$\", \"%\", \"~\", \"'\", \"..\"]\n",
        "    \n",
        "    #Regular expression tokenizer with only alphanumeric contents.\n",
        "    Token_Pattern = r'\\w+'\n",
        "    regex_wt = nltk.RegexpTokenizer(pattern = Token_Pattern, gaps = False)\n",
        "\n",
        "    #Listing out all contractions.\n",
        "    contaction_keys = list(CONTRACTION_MAP.keys())\n",
        "\n",
        "    #Declaring list for storing lemmatized tweets.\n",
        "    lemmatized_words = []\n",
        "    for i in range(len(indata)):\n",
        "        #Condition for empty tweets.\n",
        "        if (str(indata[i]) == \"nan\"):\n",
        "            #Fake strink in the blank tweet.\n",
        "            indata[i] = \"NA\"\n",
        "        #Expanding contractions.\n",
        "        text_segment = indata[i].replace(\"`\", \"'\")\n",
        "        expanded_tweets = expand_contractions(text_segment, CONTRACTION_MAP)\n",
        "        #Removing URL links from tweets.\n",
        "        expanded_tweets = re.sub(r'http\\S+', '', expanded_tweets, flags = re.MULTILINE)\n",
        "        #print(\"After contractions: \", expanded_tweets)\n",
        "        #Tokenizing the words.\n",
        "        tokens = regex_wt.tokenize(expanded_tweets)\n",
        "        #Declaring list for lemmatized words.\n",
        "        lemm_list = []\n",
        "        for word in tokens:\n",
        "            #Condition for stopwords.\n",
        "            #if (word not in stopWords):\n",
        "            if (word not in stop_words):\n",
        "                #Condition for punctuations.\n",
        "                if (word not in punctuations):\n",
        "                    #Correcting the word.\n",
        "                    #Not using this function because its not correcting words properly. Need to find more accurate way!\n",
        "                    #corrected_spell = correction(word)\n",
        "                    corrected_spell = word\n",
        "                    #Converting all letters to lower form.\n",
        "                    corrected_spell = corrected_spell.lower()\n",
        "                    #Lemmatizing words.\n",
        "                    lemm_list.append(wordnet_lemmatizer.lemmatize(corrected_spell, pos = \"v\"))\n",
        "        #Converting the lemmatized word's (document) list to a string.\n",
        "        lemm_string = listToString(lemm_list)\n",
        "        lemmatized_words.append(lemm_string)\n",
        "    return lemmatized_words\n",
        "\n",
        "\n",
        "#Function for extracting features from given data. There are three options of extraction methods are given:\n",
        "#Those are Bag of Words-based frequencies, occurrences, and TF-IDF based features\n",
        "def build_feature_matrix(documents, feature_type='frequency', ngram_range=(1, 1), min_df=0.0, max_df=1.0):\n",
        "    feature_type = feature_type.lower().strip()\n",
        "    if feature_type == 'binary':\n",
        "        vectorizer = CountVectorizer(binary=True, min_df=min_df, max_df=max_df, ngram_range=ngram_range)\n",
        "    \n",
        "    elif feature_type == 'frequency':\n",
        "        vectorizer = CountVectorizer(binary=False, min_df=min_df, max_df=max_df, ngram_range=ngram_range)\n",
        "    \n",
        "    elif feature_type == 'tfidf':\n",
        "        vectorizer = TfidfVectorizer(min_df=min_df, max_df=max_df, ngram_range=ngram_range)\n",
        "    \n",
        "    else:\n",
        "        raise Exception(\"Wrong feature type entered. Possible values: 'binary', 'frequency', 'tfidf'\")\n",
        "    \n",
        "    feature_matrix = vectorizer.fit_transform(documents).astype(float)\n",
        "    return (vectorizer, feature_matrix)\n"
      ],
      "execution_count": 2,
      "outputs": []
    },
    {
      "cell_type": "code",
      "metadata": {
        "id": "E_HJX7n-VjMq",
        "colab_type": "code",
        "colab": {
          "base_uri": "https://localhost:8080/",
          "height": 72
        },
        "outputId": "383e938b-3bb3-48e2-8881-53920aa1eb8f"
      },
      "source": [
        "#Normalizing tweets.\n",
        "normalized_tweets = data_normalization(raw_data['text'][:20000])\n",
        "\n",
        "\n",
        "#Vectorizing the sentiment labels to be -1, 0 and 1 for negative, neutral and positive respectively.\n",
        "vectorized_sentiments = []\n",
        "for labels in raw_data['sentiment'][:20000]:\n",
        "  if labels == 'negative':\n",
        "    ind_lab = -1\n",
        "  elif labels == 'neutral':\n",
        "    ind_lab = 0\n",
        "  elif labels == 'positive':\n",
        "    ind_lab = 1\n",
        "  else:\n",
        "    ind_lab = 'Error'\n",
        "  vectorized_sentiments.append(ind_lab)\n",
        "\n",
        "\n",
        "\n",
        "#Limiting the size of each tweet for 100 words.\n",
        "maxlen = 100\n",
        "#Training on only 200 sampeles.\n",
        "training_samples = 15000\n",
        "#Validating on 10000 samples.\n",
        "validation_samples = 5000\n",
        "#Considering only top 10000 words from dataset.\n",
        "max_words = 10000\n",
        "\n",
        "#Tokenizing the words.\n",
        "tokenizer = Tokenizer(num_words = max_words)\n",
        "tokenizer.fit_on_texts(normalized_tweets)\n",
        "sequences = tokenizer.texts_to_sequences(normalized_tweets)\n",
        "\n",
        "#Finding the index for each unique words.\n",
        "word_index = tokenizer.word_index\n",
        "print('Found %s unique tokens.' % len(word_index))\n",
        "\n",
        "#Padding each tokenized tweet to be of same length.\n",
        "data = pad_sequences(sequences, maxlen = maxlen)\n",
        "labels = np.asarray(vectorized_sentiments)\n",
        "print('Shape of data tensor:', data.shape)\n",
        "print('Shape of label tensor:', labels.shape)\n",
        "\n",
        "#Shuffling the dataset before splitting into train and validation sets.\n",
        "indices = np.arange(data.shape[0])\n",
        "np.random.shuffle(indices)\n",
        "\n",
        "#Splitting the train and validation set.\n",
        "data = data[indices]\n",
        "labels = labels[indices]\n",
        "x_train = data[:training_samples]\n",
        "y_train_raw = labels[:training_samples]\n",
        "x_val = data[training_samples: training_samples + validation_samples]\n",
        "y_val_raw = labels[training_samples: training_samples + validation_samples]\n",
        "\n",
        "#Converting labels to one hot encoding of three categories.\n",
        "y_train = tf.keras.utils.to_categorical(y_train_raw, 3)\n",
        "y_val = tf.keras.utils.to_categorical(y_val_raw, 3)\n",
        "\n"
      ],
      "execution_count": 3,
      "outputs": [
        {
          "output_type": "stream",
          "text": [
            "Found 18066 unique tokens.\n",
            "Shape of data tensor: (20000, 100)\n",
            "Shape of label tensor: (20000,)\n"
          ],
          "name": "stdout"
        }
      ]
    },
    {
      "cell_type": "code",
      "metadata": {
        "id": "fbFvslpkWvuq",
        "colab_type": "code",
        "colab": {
          "base_uri": "https://localhost:8080/",
          "height": 35
        },
        "outputId": "e5036f2f-a4af-4fec-8146-ad21f2476f84"
      },
      "source": [
        "\n",
        "#Path for the directory.\n",
        "glove_dir = '/content/drive/My Drive/Colab_Datasets/Pretrained_Networks'\n",
        "embeddings_index = {}\n",
        "\n",
        "#opening teh file with pretrained words.\n",
        "#f = open(os.path.join(glove_dir, 'glove.6B.100d.txt'))\n",
        "f = open(os.path.join(glove_dir, 'glove.twitter.27B.100d.txt'))\n",
        "\n",
        "#Reading each word vectors.\n",
        "for line in f:\n",
        "  values = line.split()\n",
        "  #Storing word as index and its 100d vector as values in python dictonary.\n",
        "  word = values[0]\n",
        "  coefs = np.asarray(values[1:], dtype='float32')\n",
        "  embeddings_index[word] = coefs\n",
        "f.close()\n",
        "\n",
        "print('Found %s word vectors.' % len(embeddings_index))\n",
        "\n"
      ],
      "execution_count": 4,
      "outputs": [
        {
          "output_type": "stream",
          "text": [
            "Found 1193514 word vectors.\n"
          ],
          "name": "stdout"
        }
      ]
    },
    {
      "cell_type": "code",
      "metadata": {
        "id": "Q2Q00-zwX6ko",
        "colab_type": "code",
        "colab": {}
      },
      "source": [
        "\n",
        "list_of_unidentified_words = []\n",
        "#Dimensions of embedding (word vector length).\n",
        "embedding_dim = 100\n",
        "#Defining a matrix of size (max words, dimensions)\n",
        "embedding_matrix = np.zeros((max_words, embedding_dim))\n",
        "\n",
        "#Extracting word vectors for all words from our dataset.\n",
        "for word, i in word_index.items():\n",
        "  if i < max_words:\n",
        "    embedding_vector = embeddings_index.get(word)\n",
        "    #If the word is missing frim pretrained network, then it will be filled with all zeros.\n",
        "    if embedding_vector is not None:\n",
        "      #print(words)\n",
        "      list_of_unidentified_words.append(words)\n",
        "      embedding_matrix[i] = embedding_vector\n"
      ],
      "execution_count": 5,
      "outputs": []
    },
    {
      "cell_type": "code",
      "metadata": {
        "id": "7S8uqKIlU6hb",
        "colab_type": "code",
        "colab": {
          "base_uri": "https://localhost:8080/",
          "height": 458
        },
        "outputId": "1e166d1f-79dd-424c-cf93-44112dbcd5c9"
      },
      "source": [
        "\n",
        "#Constructing neural network.\n",
        "model = Sequential()\n",
        "model.add(Embedding(max_words, embedding_dim, input_length=maxlen))\n",
        "model.add(LSTM(64))\n",
        "#model.add(Flatten())\n",
        "model.add(Dense(units = 64, activation = 'relu', kernel_regularizer = regularizers.l1(0.00005)))\n",
        "model.add(layers.Dropout(0.5))\n",
        "model.add(Dense(units = 128, activation = 'relu', kernel_regularizer = regularizers.l1(0.00005)))\n",
        "#model.add(layers.Dropout(0.5))\n",
        "model.add(Dense(units = 64, activation = 'relu', kernel_regularizer = regularizers.l1(0.00005)))\n",
        "#model.add(layers.Dropout(0.5))\n",
        "model.add(Dense(units = 32, activation = 'relu'))\n",
        "model.add(Dense(units = 3, activation = 'sigmoid'))\n",
        "model.summary()\n"
      ],
      "execution_count": 21,
      "outputs": [
        {
          "output_type": "stream",
          "text": [
            "Model: \"sequential_5\"\n",
            "_________________________________________________________________\n",
            "Layer (type)                 Output Shape              Param #   \n",
            "=================================================================\n",
            "embedding_5 (Embedding)      (None, 100, 100)          1000000   \n",
            "_________________________________________________________________\n",
            "lstm_5 (LSTM)                (None, 64)                42240     \n",
            "_________________________________________________________________\n",
            "dense_17 (Dense)             (None, 64)                4160      \n",
            "_________________________________________________________________\n",
            "dropout_4 (Dropout)          (None, 64)                0         \n",
            "_________________________________________________________________\n",
            "dense_18 (Dense)             (None, 128)               8320      \n",
            "_________________________________________________________________\n",
            "dense_19 (Dense)             (None, 64)                8256      \n",
            "_________________________________________________________________\n",
            "dense_20 (Dense)             (None, 32)                2080      \n",
            "_________________________________________________________________\n",
            "dense_21 (Dense)             (None, 3)                 99        \n",
            "=================================================================\n",
            "Total params: 1,065,155\n",
            "Trainable params: 1,065,155\n",
            "Non-trainable params: 0\n",
            "_________________________________________________________________\n"
          ],
          "name": "stdout"
        }
      ]
    },
    {
      "cell_type": "code",
      "metadata": {
        "id": "RsLlRZCdWe8m",
        "colab_type": "code",
        "colab": {
          "base_uri": "https://localhost:8080/",
          "height": 1000
        },
        "outputId": "c3d02f07-fb79-488f-ce97-73374e622d4d"
      },
      "source": [
        "\n",
        "#Substituting the parameter values of embedding matrix for embedding layer.\n",
        "model.layers[0].set_weights([embedding_matrix])\n",
        "#This layer will be non trainable for actual dataset.\n",
        "model.layers[0].trainable = False\n",
        "\n",
        "#Compiling the model.\n",
        "model.compile(optimizer = 'rmsprop', loss = 'categorical_crossentropy', \n",
        "              metrics = ['acc'])\n",
        "\n",
        "history = model.fit(x_train, y_train, \n",
        "                    epochs = 30, batch_size = 1400, \n",
        "                    validation_data = (x_val, y_val))\n",
        "\n",
        "#Storing the model.\n",
        "#model.save_weights('pre_trained_glove_model.h5')\n",
        "model.save_weights('pre_trained_glove_model_rev.01.h5')\n"
      ],
      "execution_count": 22,
      "outputs": [
        {
          "output_type": "stream",
          "text": [
            "Epoch 1/30\n",
            "11/11 [==============================] - 11s 1s/step - loss: 1.1510 - acc: 0.4307 - val_loss: 1.0536 - val_acc: 0.5148\n",
            "Epoch 2/30\n",
            "11/11 [==============================] - 11s 998ms/step - loss: 1.0360 - acc: 0.5327 - val_loss: 0.9727 - val_acc: 0.6114\n",
            "Epoch 3/30\n",
            "11/11 [==============================] - 11s 1000ms/step - loss: 0.9722 - acc: 0.5959 - val_loss: 0.9182 - val_acc: 0.6272\n",
            "Epoch 4/30\n",
            "11/11 [==============================] - 11s 1s/step - loss: 0.9341 - acc: 0.6151 - val_loss: 0.8957 - val_acc: 0.6308\n",
            "Epoch 5/30\n",
            "11/11 [==============================] - 11s 1s/step - loss: 0.8931 - acc: 0.6393 - val_loss: 0.8892 - val_acc: 0.6360\n",
            "Epoch 6/30\n",
            "11/11 [==============================] - 11s 994ms/step - loss: 0.8779 - acc: 0.6476 - val_loss: 0.8432 - val_acc: 0.6568\n",
            "Epoch 7/30\n",
            "11/11 [==============================] - 11s 998ms/step - loss: 0.8624 - acc: 0.6551 - val_loss: 0.8370 - val_acc: 0.6610\n",
            "Epoch 8/30\n",
            "11/11 [==============================] - 11s 993ms/step - loss: 0.8463 - acc: 0.6633 - val_loss: 0.8343 - val_acc: 0.6652\n",
            "Epoch 9/30\n",
            "11/11 [==============================] - 11s 992ms/step - loss: 0.8349 - acc: 0.6656 - val_loss: 0.8259 - val_acc: 0.6656\n",
            "Epoch 10/30\n",
            "11/11 [==============================] - 11s 1s/step - loss: 0.8170 - acc: 0.6721 - val_loss: 0.8201 - val_acc: 0.6734\n",
            "Epoch 11/30\n",
            "11/11 [==============================] - 11s 1s/step - loss: 0.8159 - acc: 0.6771 - val_loss: 0.8127 - val_acc: 0.6718\n",
            "Epoch 12/30\n",
            "11/11 [==============================] - 12s 1s/step - loss: 0.8070 - acc: 0.6801 - val_loss: 0.7995 - val_acc: 0.6772\n",
            "Epoch 13/30\n",
            "11/11 [==============================] - 12s 1s/step - loss: 0.7952 - acc: 0.6873 - val_loss: 0.8191 - val_acc: 0.6722\n",
            "Epoch 14/30\n",
            "11/11 [==============================] - 11s 1s/step - loss: 0.7880 - acc: 0.6874 - val_loss: 0.7949 - val_acc: 0.6798\n",
            "Epoch 15/30\n",
            "11/11 [==============================] - 11s 1s/step - loss: 0.7770 - acc: 0.6945 - val_loss: 0.8041 - val_acc: 0.6722\n",
            "Epoch 16/30\n",
            "11/11 [==============================] - 11s 999ms/step - loss: 0.7765 - acc: 0.6917 - val_loss: 0.8075 - val_acc: 0.6814\n",
            "Epoch 17/30\n",
            "11/11 [==============================] - 11s 1s/step - loss: 0.7625 - acc: 0.6961 - val_loss: 0.7819 - val_acc: 0.6896\n",
            "Epoch 18/30\n",
            "11/11 [==============================] - 11s 1s/step - loss: 0.7568 - acc: 0.7033 - val_loss: 0.7733 - val_acc: 0.6938\n",
            "Epoch 19/30\n",
            "11/11 [==============================] - 11s 994ms/step - loss: 0.7565 - acc: 0.7011 - val_loss: 0.7831 - val_acc: 0.6880\n",
            "Epoch 20/30\n",
            "11/11 [==============================] - 11s 1s/step - loss: 0.7384 - acc: 0.7114 - val_loss: 0.7929 - val_acc: 0.6836\n",
            "Epoch 21/30\n",
            "11/11 [==============================] - 11s 1s/step - loss: 0.7464 - acc: 0.7069 - val_loss: 0.7715 - val_acc: 0.6970\n",
            "Epoch 22/30\n",
            "11/11 [==============================] - 11s 1s/step - loss: 0.7406 - acc: 0.7098 - val_loss: 0.7738 - val_acc: 0.6906\n",
            "Epoch 23/30\n",
            "11/11 [==============================] - 11s 996ms/step - loss: 0.7379 - acc: 0.7115 - val_loss: 0.7713 - val_acc: 0.6930\n",
            "Epoch 24/30\n",
            "11/11 [==============================] - 11s 1s/step - loss: 0.7268 - acc: 0.7165 - val_loss: 0.7684 - val_acc: 0.6930\n",
            "Epoch 25/30\n",
            "11/11 [==============================] - 11s 997ms/step - loss: 0.7253 - acc: 0.7165 - val_loss: 0.7773 - val_acc: 0.6906\n",
            "Epoch 26/30\n",
            "11/11 [==============================] - 11s 993ms/step - loss: 0.7251 - acc: 0.7155 - val_loss: 0.7684 - val_acc: 0.6984\n",
            "Epoch 27/30\n",
            "11/11 [==============================] - 11s 991ms/step - loss: 0.7098 - acc: 0.7230 - val_loss: 0.7626 - val_acc: 0.7038\n",
            "Epoch 28/30\n",
            "11/11 [==============================] - 11s 985ms/step - loss: 0.7113 - acc: 0.7213 - val_loss: 0.7589 - val_acc: 0.6972\n",
            "Epoch 29/30\n",
            "11/11 [==============================] - 11s 988ms/step - loss: 0.7062 - acc: 0.7257 - val_loss: 0.7554 - val_acc: 0.7074\n",
            "Epoch 30/30\n",
            "11/11 [==============================] - 11s 1s/step - loss: 0.6972 - acc: 0.7309 - val_loss: 0.7563 - val_acc: 0.7056\n"
          ],
          "name": "stdout"
        }
      ]
    },
    {
      "cell_type": "code",
      "metadata": {
        "id": "ytakqU01fF8Q",
        "colab_type": "code",
        "colab": {
          "base_uri": "https://localhost:8080/",
          "height": 545
        },
        "outputId": "df2d42b7-f477-499c-8222-2aa185010f13"
      },
      "source": [
        "\n",
        "acc = history.history['acc']\n",
        "val_acc = history.history['val_acc']\n",
        "loss = history.history['loss']\n",
        "val_loss = history.history['val_loss']\n",
        "epochs = range(1, len(acc) + 1)\n",
        "plt.plot(epochs, acc, 'bo', label='Training acc')\n",
        "plt.plot(epochs, val_acc, 'b', label='Validation acc')\n",
        "plt.title('Training and validation accuracy')\n",
        "plt.legend()\n",
        "plt.figure()\n",
        "plt.plot(epochs, loss, 'bo', label='Training loss')\n",
        "plt.plot(epochs, val_loss, 'b', label='Validation loss')\n",
        "plt.title('Training and validation loss')\n",
        "plt.legend()\n",
        "plt.show()\n"
      ],
      "execution_count": 24,
      "outputs": [
        {
          "output_type": "display_data",
          "data": {
            "image/png": "[encoded data removed]",
            "text/plain": [
              "<Figure size 432x288 with 1 Axes>"
            ]
          },
          "metadata": {
            "tags": [],
            "needs_background": "light"
          }
        },
        {
          "output_type": "display_data",
          "data": {
            "image/png": "[encoded data removed]",
            "text/plain": [
              "<Figure size 432x288 with 1 Axes>"
            ]
          },
          "metadata": {
            "tags": [],
            "needs_background": "light"
          }
        }
      ]
    },
    {
      "cell_type": "code",
      "metadata": {
        "id": "qd1CCIkBVKoq",
        "colab_type": "code",
        "colab": {
          "base_uri": "https://localhost:8080/",
          "height": 384
        },
        "outputId": "6ff7a52a-9d0e-43fe-d8c6-8649f09dbf36"
      },
      "source": [
        ""
      ],
      "execution_count": 122,
      "outputs": [
        {
          "output_type": "stream",
          "text": [
            "Epoch 1/10\n",
            "469/469 [==============================] - 5s 10ms/step - loss: 1.0524 - acc: 0.4374 - val_loss: 0.9293 - val_acc: 0.5656\n",
            "Epoch 2/10\n",
            "469/469 [==============================] - 5s 10ms/step - loss: 0.9441 - acc: 0.5453 - val_loss: 0.8748 - val_acc: 0.5920\n",
            "Epoch 3/10\n",
            "469/469 [==============================] - 5s 10ms/step - loss: 0.8860 - acc: 0.5895 - val_loss: 0.8686 - val_acc: 0.5900\n",
            "Epoch 4/10\n",
            "469/469 [==============================] - 5s 10ms/step - loss: 0.8489 - acc: 0.6139 - val_loss: 0.8728 - val_acc: 0.5950\n",
            "Epoch 5/10\n",
            "469/469 [==============================] - 5s 10ms/step - loss: 0.8162 - acc: 0.6290 - val_loss: 0.8698 - val_acc: 0.5928\n",
            "Epoch 6/10\n",
            "469/469 [==============================] - 5s 10ms/step - loss: 0.7872 - acc: 0.6498 - val_loss: 0.8629 - val_acc: 0.6066\n",
            "Epoch 7/10\n",
            "469/469 [==============================] - 5s 10ms/step - loss: 0.7639 - acc: 0.6631 - val_loss: 0.8792 - val_acc: 0.5968\n",
            "Epoch 8/10\n",
            "469/469 [==============================] - 5s 10ms/step - loss: 0.7325 - acc: 0.6799 - val_loss: 0.8888 - val_acc: 0.5968\n",
            "Epoch 9/10\n",
            "469/469 [==============================] - 5s 10ms/step - loss: 0.7097 - acc: 0.6939 - val_loss: 0.9040 - val_acc: 0.6074\n",
            "Epoch 10/10\n",
            "469/469 [==============================] - 5s 10ms/step - loss: 0.6877 - acc: 0.7063 - val_loss: 0.9109 - val_acc: 0.6004\n"
          ],
          "name": "stdout"
        }
      ]
    },
    {
      "cell_type": "code",
      "metadata": {
        "id": "ckLOzEaTVKrm",
        "colab_type": "code",
        "colab": {
          "base_uri": "https://localhost:8080/",
          "height": 35
        },
        "outputId": "589fdf90-4253-413e-8fba-639a626ab1b0"
      },
      "source": [
        "len(list_of_unidentified_words)"
      ],
      "execution_count": 18,
      "outputs": [
        {
          "output_type": "execute_result",
          "data": {
            "text/plain": [
              "8849"
            ]
          },
          "metadata": {
            "tags": []
          },
          "execution_count": 18
        }
      ]
    },
    {
      "cell_type": "code",
      "metadata": {
        "id": "fmSq4mD7VKvf",
        "colab_type": "code",
        "colab": {
          "base_uri": "https://localhost:8080/",
          "height": 35
        },
        "outputId": "f7c2634e-e231-4d49-e300-feec316e2443"
      },
      "source": [
        "len(word_index.items())"
      ],
      "execution_count": 8,
      "outputs": [
        {
          "output_type": "execute_result",
          "data": {
            "text/plain": [
              "18066"
            ]
          },
          "metadata": {
            "tags": []
          },
          "execution_count": 8
        }
      ]
    },
    {
      "cell_type": "code",
      "metadata": {
        "id": "19yMrNeSVKyM",
        "colab_type": "code",
        "colab": {
          "base_uri": "https://localhost:8080/",
          "height": 403
        },
        "outputId": "bb85ac37-2e71-4822-d011-f32d649097e1"
      },
      "source": [
        "embeddings_index.get('agg')"
      ],
      "execution_count": 24,
      "outputs": [
        {
          "output_type": "execute_result",
          "data": {
            "text/plain": [
              "array([-0.36036  , -0.18962  , -0.18368  ,  0.18757  ,  0.10925  ,\n",
              "       -0.041525 , -1.2546   ,  0.49848  ,  0.14818  ,  0.28437  ,\n",
              "        0.050256 ,  0.30767  , -0.79367  , -0.29981  ,  0.35146  ,\n",
              "       -1.1458   ,  0.3633   ,  0.83614  ,  0.034547 , -0.67912  ,\n",
              "       -0.24467  ,  0.24869  , -0.10471  , -0.26492  , -0.47051  ,\n",
              "       -0.57345  ,  0.063439 ,  0.04795  , -0.76343  ,  0.14302  ,\n",
              "       -0.63186  , -0.034172 ,  0.40279  , -0.071427 , -0.021817 ,\n",
              "       -0.079377 , -0.25814  ,  0.30578  ,  0.29543  ,  0.52733  ,\n",
              "       -0.25228  , -0.41207  ,  0.72592  , -0.57233  , -0.28     ,\n",
              "       -0.21304  ,  0.33097  ,  1.1646   ,  0.51199  ,  0.67434  ,\n",
              "       -0.38152  ,  0.76354  ,  0.26524  ,  0.38117  ,  0.48921  ,\n",
              "        0.068645 ,  0.035555 , -0.044574 , -0.097628 ,  0.33642  ,\n",
              "        0.013261 ,  0.33738  , -0.035554 ,  0.21267  ,  0.36631  ,\n",
              "       -0.022687 , -0.619    , -0.009019 ,  0.022235 ,  0.31946  ,\n",
              "       -0.51781  ,  0.11821  ,  0.49789  ,  0.59597  , -0.74681  ,\n",
              "       -0.12453  ,  0.56441  ,  0.19514  , -0.83265  , -0.53637  ,\n",
              "        0.42154  , -0.26206  , -0.035083 ,  0.0032177,  0.17253  ,\n",
              "        0.62406  ,  0.42085  , -0.3201   ,  0.4221   , -0.97708  ,\n",
              "       -0.44976  , -0.0053895,  0.50593  ,  0.18993  ,  0.084423 ,\n",
              "       -0.45341  , -0.21803  , -0.11795  ,  0.15266  ,  0.41221  ],\n",
              "      dtype=float32)"
            ]
          },
          "metadata": {
            "tags": []
          },
          "execution_count": 24
        }
      ]
    },
    {
      "cell_type": "code",
      "metadata": {
        "id": "vUceJW1LfF-T",
        "colab_type": "code",
        "colab": {}
      },
      "source": [
        ""
      ],
      "execution_count": null,
      "outputs": []
    },
    {
      "cell_type": "code",
      "metadata": {
        "id": "pouSMU4SfGLh",
        "colab_type": "code",
        "colab": {}
      },
      "source": [
        ""
      ],
      "execution_count": 5,
      "outputs": []
    },
    {
      "cell_type": "code",
      "metadata": {
        "id": "x1FaAZE6YfDk",
        "colab_type": "code",
        "colab": {}
      },
      "source": [
        ""
      ],
      "execution_count": null,
      "outputs": []
    }
  ]
}
